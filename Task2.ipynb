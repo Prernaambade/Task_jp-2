{
 "cells": [
  {
   "cell_type": "markdown",
   "id": "e6ea8dd7-3558-496e-bd69-43d4aead5a9b",
   "metadata": {},
   "source": [
    "# ALL STRINGS IN PYTHON"
   ]
  },
  {
   "cell_type": "code",
   "execution_count": null,
   "id": "dae3a91b-776a-4d6d-80f7-d2e516b449da",
   "metadata": {},
   "outputs": [],
   "source": [
    "1.Capitalize()-Converts the first character to upper case"
   ]
  },
  {
   "cell_type": "code",
   "execution_count": 5,
   "id": "da0d8a4d-3ec8-4e6b-ade4-81cc61d1ad42",
   "metadata": {},
   "outputs": [
    {
     "name": "stdout",
     "output_type": "stream",
     "text": [
      "Hello, and welcome to my world.\n"
     ]
    }
   ],
   "source": [
    "txt = \"hello, and welcome to my world.\"\n",
    "x = txt.capitalize()\n",
    "print (x)"
   ]
  },
  {
   "cell_type": "code",
   "execution_count": 7,
   "id": "ad6f0a12-4ce7-4ede-be0c-868763a36f61",
   "metadata": {},
   "outputs": [
    {
     "name": "stdout",
     "output_type": "stream",
     "text": [
      "Hello, my name is prerna\n"
     ]
    }
   ],
   "source": [
    "txt = \"hello, my name is prerna\"\n",
    "x= txt.capitalize()\n",
    "print(x)"
   ]
  },
  {
   "cell_type": "code",
   "execution_count": null,
   "id": "c454a6b7-736a-4355-b559-b403a61792ec",
   "metadata": {},
   "outputs": [],
   "source": [
    "2.Caefold()-Converts string into lower case"
   ]
  },
  {
   "cell_type": "code",
   "execution_count": 9,
   "id": "3d58afa5-0231-45d1-94a6-a386d1b0f880",
   "metadata": {},
   "outputs": [
    {
     "name": "stdout",
     "output_type": "stream",
     "text": [
      "hello, and welcome to my world!\n"
     ]
    }
   ],
   "source": [
    "txt = \"Hello, And Welcome To My World!\"\n",
    "x = txt.casefold()\n",
    "print(x)"
   ]
  },
  {
   "cell_type": "code",
   "execution_count": 11,
   "id": "fbe4595c-c281-4353-a30d-c920d7c9421e",
   "metadata": {},
   "outputs": [
    {
     "name": "stdout",
     "output_type": "stream",
     "text": [
      "hello, how are you\n"
     ]
    }
   ],
   "source": [
    "txt = \"Hello, how are you\"\n",
    "x = txt.casefold()\n",
    "print(x)"
   ]
  },
  {
   "cell_type": "code",
   "execution_count": null,
   "id": "8ca72e56-b54b-42f6-b1dd-e02d2f6a3182",
   "metadata": {},
   "outputs": [],
   "source": [
    "3.Center()-Returns a centered string"
   ]
  },
  {
   "cell_type": "code",
   "execution_count": 13,
   "id": "89627629-7916-4350-ab7e-c668b630c0b8",
   "metadata": {},
   "outputs": [
    {
     "name": "stdout",
     "output_type": "stream",
     "text": [
      "       banana       \n"
     ]
    }
   ],
   "source": [
    "txt = \"banana\"\n",
    "x = txt.center(20)\n",
    "print(x)"
   ]
  },
  {
   "cell_type": "code",
   "execution_count": 15,
   "id": "657bd175-efee-4a47-bd93-1759880d719e",
   "metadata": {},
   "outputs": [
    {
     "name": "stdout",
     "output_type": "stream",
     "text": [
      "            Prerna            \n"
     ]
    }
   ],
   "source": [
    "txt = \"Prerna\"\n",
    "x = txt.center(30)\n",
    "print(x)"
   ]
  },
  {
   "cell_type": "code",
   "execution_count": null,
   "id": "073194ac-9d0c-4334-b13e-e5419094700d",
   "metadata": {},
   "outputs": [],
   "source": [
    "4.Count()-Returns the number of times a specified value occurs in a string"
   ]
  },
  {
   "cell_type": "code",
   "execution_count": 17,
   "id": "e16c9547-d4f7-40b6-be9c-27c234e9e537",
   "metadata": {},
   "outputs": [
    {
     "name": "stdout",
     "output_type": "stream",
     "text": [
      "2\n"
     ]
    }
   ],
   "source": [
    "txt = \"I love apples, apple are my favorite fruit\"\n",
    "x = txt.count(\"apple\")\n",
    "print(x)"
   ]
  },
  {
   "cell_type": "code",
   "execution_count": 19,
   "id": "ec3ef00c-92e1-494d-b24e-17b82b12fa1a",
   "metadata": {},
   "outputs": [
    {
     "name": "stdout",
     "output_type": "stream",
     "text": [
      "4\n"
     ]
    }
   ],
   "source": [
    "txt = \"I love apples, apple are my favorite fruit\"\n",
    "x = txt.count(\"p\")\n",
    "print(x)"
   ]
  },
  {
   "cell_type": "code",
   "execution_count": null,
   "id": "51375ff2-d42b-4d3f-8e88-2cbf0474b238",
   "metadata": {},
   "outputs": [],
   "source": [
    "5.encode()-Returns an encoded version of the string"
   ]
  },
  {
   "cell_type": "code",
   "execution_count": 21,
   "id": "e6c38f1d-d474-4b12-bac9-e5886d750987",
   "metadata": {},
   "outputs": [
    {
     "name": "stdout",
     "output_type": "stream",
     "text": [
      "b'My name is Stale'\n"
     ]
    }
   ],
   "source": [
    "txt = \"My name is Stale\"\n",
    "x = txt.encode()\n",
    "print(x)"
   ]
  },
  {
   "cell_type": "code",
   "execution_count": 23,
   "id": "61d8d72c-919f-4770-9359-3ae2ad881070",
   "metadata": {},
   "outputs": [
    {
     "name": "stdout",
     "output_type": "stream",
     "text": [
      "b'My name is Prerna'\n"
     ]
    }
   ],
   "source": [
    "txt = \"My name is Prerna\"\n",
    "x = txt.encode()\n",
    "print(x)"
   ]
  },
  {
   "cell_type": "code",
   "execution_count": null,
   "id": "d1b7c1a8-b11c-4473-9fd4-30fdf0c14a8e",
   "metadata": {},
   "outputs": [],
   "source": [
    "6.endswitch()-Returns true if the string ends with the specified value"
   ]
  },
  {
   "cell_type": "code",
   "execution_count": 25,
   "id": "ed2ef282-7d04-43d9-b11b-0e77d48ee4c5",
   "metadata": {},
   "outputs": [
    {
     "name": "stdout",
     "output_type": "stream",
     "text": [
      "True\n"
     ]
    }
   ],
   "source": [
    "txt = \"Hello, welcome to my world.\"\n",
    "x = txt.endswith(\".\")\n",
    "print(x)"
   ]
  },
  {
   "cell_type": "code",
   "execution_count": 27,
   "id": "2db96c98-2a2b-4c2b-bab5-6d8130ef1859",
   "metadata": {},
   "outputs": [
    {
     "name": "stdout",
     "output_type": "stream",
     "text": [
      "False\n"
     ]
    }
   ],
   "source": [
    "txt = \"Hello, welcome to my world.\"\n",
    "x = txt.endswith(\"/\")\n",
    "print(x)"
   ]
  },
  {
   "cell_type": "code",
   "execution_count": null,
   "id": "45d305fa-4a73-4ec8-b128-3900e5c44791",
   "metadata": {},
   "outputs": [],
   "source": [
    "7.expandtabs()-Sets the tab size of the string"
   ]
  },
  {
   "cell_type": "code",
   "execution_count": 29,
   "id": "75e957df-2d18-430a-abf0-17f290ff11c8",
   "metadata": {},
   "outputs": [
    {
     "name": "stdout",
     "output_type": "stream",
     "text": [
      "H e l l o\n"
     ]
    }
   ],
   "source": [
    "txt = \"H\\te\\tl\\tl\\to\"\n",
    "x =  txt.expandtabs(2)\n",
    "print(x)"
   ]
  },
  {
   "cell_type": "code",
   "execution_count": 31,
   "id": "06a182d9-f55b-42c7-9cd7-5795cc60d59a",
   "metadata": {},
   "outputs": [
    {
     "name": "stdout",
     "output_type": "stream",
     "text": [
      "a p p l e\n"
     ]
    }
   ],
   "source": [
    "txt = \"a\\tp\\tp\\tl\\te\"\n",
    "x =  txt.expandtabs(2)\n",
    "print(x)"
   ]
  },
  {
   "cell_type": "code",
   "execution_count": null,
   "id": "7cafc672-e2d8-4141-a6d6-eb624f07e8c5",
   "metadata": {},
   "outputs": [],
   "source": [
    "8.find()-Searches the string for a specified value and returns the position of where it was found"
   ]
  },
  {
   "cell_type": "code",
   "execution_count": 33,
   "id": "c0458553-a87d-4bd5-95fd-5c758dd99867",
   "metadata": {},
   "outputs": [
    {
     "name": "stdout",
     "output_type": "stream",
     "text": [
      "7\n"
     ]
    }
   ],
   "source": [
    "txt = \"Hello, welcome to my world.\"\n",
    "x = txt.find(\"welcome\")\n",
    "print(x)"
   ]
  },
  {
   "cell_type": "code",
   "execution_count": 35,
   "id": "b9b9b303-a273-43a3-8c57-2fcd0c77e8eb",
   "metadata": {},
   "outputs": [
    {
     "name": "stdout",
     "output_type": "stream",
     "text": [
      "17\n"
     ]
    }
   ],
   "source": [
    "txt = \"hiii, my name is Prerna\"\n",
    "x = txt.find(\"Prerna\")\n",
    "print(x)"
   ]
  },
  {
   "cell_type": "code",
   "execution_count": null,
   "id": "8d5f806b-bb13-4da6-9738-ed5433b83172",
   "metadata": {},
   "outputs": [],
   "source": [
    "9.formate-Formats specified values in a string"
   ]
  },
  {
   "cell_type": "code",
   "execution_count": 37,
   "id": "5190f0ec-d19e-4889-a8bb-951745927d93",
   "metadata": {},
   "outputs": [
    {
     "name": "stdout",
     "output_type": "stream",
     "text": [
      "For only 49.00 dollars!\n"
     ]
    }
   ],
   "source": [
    "txt = \"For only {price:.2f} dollars!\"\n",
    "print(txt.format(price = 49))"
   ]
  },
  {
   "cell_type": "code",
   "execution_count": 39,
   "id": "f771230a-60ad-42e0-af98-dd435d97488f",
   "metadata": {},
   "outputs": [
    {
     "name": "stdout",
     "output_type": "stream",
     "text": [
      "For only 100.00 dollars!\n"
     ]
    }
   ],
   "source": [
    "txt = \"For only {price:.2f} dollars!\"\n",
    "print(txt.format(price = 100))"
   ]
  },
  {
   "cell_type": "code",
   "execution_count": null,
   "id": "c14d7d94-ee8e-417e-92cb-3e60c7ba5803",
   "metadata": {},
   "outputs": [],
   "source": [
    "10.Index-Searches the string for a specified value and returns the position of where it was found"
   ]
  },
  {
   "cell_type": "code",
   "execution_count": 41,
   "id": "c4bbcc6a-2d46-44e4-9cd7-fb48fb929c0e",
   "metadata": {},
   "outputs": [
    {
     "name": "stdout",
     "output_type": "stream",
     "text": [
      "7\n"
     ]
    }
   ],
   "source": [
    "txt = \"Hello, welcome to my world.\"\n",
    "x = txt.index(\"welcome\")\n",
    "print(x)"
   ]
  },
  {
   "cell_type": "code",
   "execution_count": 43,
   "id": "c2f9e3b0-cf30-49b7-9762-6e7dce6758ed",
   "metadata": {},
   "outputs": [
    {
     "name": "stdout",
     "output_type": "stream",
     "text": [
      "8\n"
     ]
    }
   ],
   "source": [
    "txt = \"Hello, welcome to my world.\"\n",
    "x = txt.index(\"e\", 5, 10)\n",
    "print(x)"
   ]
  },
  {
   "cell_type": "code",
   "execution_count": null,
   "id": "c36359e3-8795-418d-afa8-ae364cdf5628",
   "metadata": {},
   "outputs": [],
   "source": [
    "11.isalnum()-Returns True if all characters in the string are alphanumeric"
   ]
  },
  {
   "cell_type": "code",
   "execution_count": 45,
   "id": "0efee495-ca91-4db1-80b6-daa7f465f10e",
   "metadata": {},
   "outputs": [
    {
     "name": "stdout",
     "output_type": "stream",
     "text": [
      "True\n"
     ]
    }
   ],
   "source": [
    "txt = \"Company12\"\n",
    "x = txt.isalnum()\n",
    "print(x)"
   ]
  },
  {
   "cell_type": "code",
   "execution_count": 49,
   "id": "7fbc0b01-16c1-4316-9b74-712f91f5a57d",
   "metadata": {},
   "outputs": [
    {
     "name": "stdout",
     "output_type": "stream",
     "text": [
      "True\n"
     ]
    }
   ],
   "source": [
    "txt = \"company\"\n",
    "x = txt.isalnum()\n",
    "print(x)"
   ]
  },
  {
   "cell_type": "code",
   "execution_count": null,
   "id": "56b05739-37c2-4233-b615-f7dde1fc0823",
   "metadata": {},
   "outputs": [],
   "source": [
    "12.isalpha()-Returns True if all characters in the string are in the alphabet"
   ]
  },
  {
   "cell_type": "code",
   "execution_count": 51,
   "id": "c63c228a-c3b9-4103-8673-5db860fe0cd1",
   "metadata": {},
   "outputs": [
    {
     "name": "stdout",
     "output_type": "stream",
     "text": [
      "True\n"
     ]
    }
   ],
   "source": [
    "txt = \"CompanyX\"\n",
    "x = txt.isalpha()\n",
    "print(x)"
   ]
  },
  {
   "cell_type": "code",
   "execution_count": 57,
   "id": "bc3cbc11-24da-46fb-9704-03a70ffaf283",
   "metadata": {},
   "outputs": [
    {
     "name": "stdout",
     "output_type": "stream",
     "text": [
      "False\n"
     ]
    }
   ],
   "source": [
    "txt = \"prerna12\"\n",
    "x = txt.isalpha()\n",
    "print(x)"
   ]
  },
  {
   "cell_type": "code",
   "execution_count": null,
   "id": "5753d66d-6283-43b3-a04a-8ef7ae935fdd",
   "metadata": {},
   "outputs": [],
   "source": [
    "13.isascii()-Returns True if all characters in the string are ascii characters"
   ]
  },
  {
   "cell_type": "code",
   "execution_count": 59,
   "id": "5fb42698-639d-42f7-92b0-7d8a251bfb32",
   "metadata": {},
   "outputs": [
    {
     "name": "stdout",
     "output_type": "stream",
     "text": [
      "True\n"
     ]
    }
   ],
   "source": [
    "txt = \"Company123\"\n",
    "x = txt.isascii()\n",
    "print(x)"
   ]
  },
  {
   "cell_type": "code",
   "execution_count": 61,
   "id": "23f9d01a-f529-4b26-acda-a50894695a87",
   "metadata": {},
   "outputs": [
    {
     "name": "stdout",
     "output_type": "stream",
     "text": [
      "True\n"
     ]
    }
   ],
   "source": [
    "txt = \"Company\"\n",
    "x = txt.isascii()\n",
    "print(x)"
   ]
  },
  {
   "cell_type": "code",
   "execution_count": null,
   "id": "6b56892b-c2fd-4edc-9d90-2b5decd9b813",
   "metadata": {},
   "outputs": [],
   "source": [
    "14.isdecimal()-Returns True if all characters in the string are decimals"
   ]
  },
  {
   "cell_type": "code",
   "execution_count": 63,
   "id": "4dc7a65d-9942-4229-ab62-601eae426dc4",
   "metadata": {},
   "outputs": [
    {
     "name": "stdout",
     "output_type": "stream",
     "text": [
      "True\n"
     ]
    }
   ],
   "source": [
    "txt = \"1234\"\n",
    "x = txt.isdecimal()\n",
    "print(x)\n"
   ]
  },
  {
   "cell_type": "code",
   "execution_count": 65,
   "id": "f3e71d4f-bda1-4063-84f4-d32490a1361c",
   "metadata": {},
   "outputs": [
    {
     "name": "stdout",
     "output_type": "stream",
     "text": [
      "False\n"
     ]
    }
   ],
   "source": [
    "txt = \"1234abcd\"\n",
    "x = txt.isdecimal()\n",
    "print(x)"
   ]
  },
  {
   "cell_type": "code",
   "execution_count": null,
   "id": "f4b63f0f-86ea-4e97-a506-1f36881c3551",
   "metadata": {},
   "outputs": [],
   "source": [
    "15.isdigit()-Returns True if all characters in the string are digits"
   ]
  },
  {
   "cell_type": "code",
   "execution_count": 67,
   "id": "6803dad3-1877-457c-9735-170e7d8cb628",
   "metadata": {},
   "outputs": [
    {
     "name": "stdout",
     "output_type": "stream",
     "text": [
      "True\n"
     ]
    }
   ],
   "source": [
    "txt = \"50800\"\n",
    "x = txt.isdigit()\n",
    "print(x)"
   ]
  },
  {
   "cell_type": "code",
   "execution_count": 69,
   "id": "650eeee6-46d5-4acc-a3b9-f54ed8dd6286",
   "metadata": {},
   "outputs": [
    {
     "name": "stdout",
     "output_type": "stream",
     "text": [
      "False\n"
     ]
    }
   ],
   "source": [
    "txt = \"508and00\"\n",
    "x = txt.isdigit()\n",
    "print(x)"
   ]
  },
  {
   "cell_type": "code",
   "execution_count": null,
   "id": "a2529f9e-118a-4cfd-bbb3-49b56e06e4ba",
   "metadata": {},
   "outputs": [],
   "source": [
    "16.isdentifier()-Returns True if the string is an identifier"
   ]
  },
  {
   "cell_type": "code",
   "execution_count": 71,
   "id": "7f966f97-3fed-49c6-92a2-2223eced541b",
   "metadata": {},
   "outputs": [
    {
     "name": "stdout",
     "output_type": "stream",
     "text": [
      "True\n"
     ]
    }
   ],
   "source": [
    "txt = \"Demo\"\n",
    "x = txt.isidentifier()\n",
    "print(x)"
   ]
  },
  {
   "cell_type": "code",
   "execution_count": 73,
   "id": "29e5ac72-2392-47a0-a7a7-ef20263b0809",
   "metadata": {},
   "outputs": [
    {
     "name": "stdout",
     "output_type": "stream",
     "text": [
      "True\n"
     ]
    }
   ],
   "source": [
    "txt = \"practice\"\n",
    "x = txt.isidentifier()\n",
    "print(x)"
   ]
  },
  {
   "cell_type": "code",
   "execution_count": null,
   "id": "0d87c066-bd89-48aa-8f3d-1e3250a3371f",
   "metadata": {},
   "outputs": [],
   "source": [
    "17.islower()-Returns True if all characters in the string are lower case"
   ]
  },
  {
   "cell_type": "code",
   "execution_count": 75,
   "id": "eb1f51df-d682-4238-babd-d8304ba82108",
   "metadata": {},
   "outputs": [
    {
     "name": "stdout",
     "output_type": "stream",
     "text": [
      "True\n"
     ]
    }
   ],
   "source": [
    "txt = \"hello world!\"\n",
    "x = txt.islower()\n",
    "print(x)"
   ]
  },
  {
   "cell_type": "code",
   "execution_count": 77,
   "id": "96395c2b-2a94-4f90-b3c6-27dc96ecfc28",
   "metadata": {},
   "outputs": [
    {
     "name": "stdout",
     "output_type": "stream",
     "text": [
      "True\n"
     ]
    }
   ],
   "source": [
    "txt = \"hiii,prerna!\"\n",
    "x = txt.islower()\n",
    "print(x)"
   ]
  },
  {
   "cell_type": "code",
   "execution_count": null,
   "id": "69cf5993-e4c9-4db2-9791-d1f6b8be9c1f",
   "metadata": {},
   "outputs": [],
   "source": [
    "18.isnumeric()-Returns True if all characters in the string are numeric"
   ]
  },
  {
   "cell_type": "code",
   "execution_count": 79,
   "id": "24941406-9734-4440-844a-8bc026983ae1",
   "metadata": {},
   "outputs": [
    {
     "name": "stdout",
     "output_type": "stream",
     "text": [
      "True\n"
     ]
    }
   ],
   "source": [
    "txt = \"565543\"\n",
    "x = txt.isnumeric()\n",
    "print(x)"
   ]
  },
  {
   "cell_type": "code",
   "execution_count": 81,
   "id": "d2f825ad-ad73-4b77-b2d6-04bae96f376f",
   "metadata": {},
   "outputs": [
    {
     "name": "stdout",
     "output_type": "stream",
     "text": [
      "False\n"
     ]
    }
   ],
   "source": [
    "txt = \"prerna12\"\n",
    "x = txt.isnumeric()\n",
    "print(x)"
   ]
  },
  {
   "cell_type": "code",
   "execution_count": null,
   "id": "bb8a13d1-baf3-4c0a-936f-93e121ced945",
   "metadata": {},
   "outputs": [],
   "source": [
    "19.isprintable()-Returns True if all characters in the string are printable"
   ]
  },
  {
   "cell_type": "code",
   "execution_count": 83,
   "id": "ee17c865-8448-4e01-ad9d-75062dcdd20d",
   "metadata": {},
   "outputs": [
    {
     "name": "stdout",
     "output_type": "stream",
     "text": [
      "True\n"
     ]
    }
   ],
   "source": [
    "txt = \"Hello! Are you #1?\"\n",
    "x = txt.isprintable()\n",
    "print(x)"
   ]
  },
  {
   "cell_type": "code",
   "execution_count": 85,
   "id": "3dfeaddf-20f5-4138-9180-cf8954aa9d27",
   "metadata": {},
   "outputs": [
    {
     "name": "stdout",
     "output_type": "stream",
     "text": [
      "True\n"
     ]
    }
   ],
   "source": [
    "txt = \"Hello! Are you\"\n",
    "x = txt.isprintable()\n",
    "print(x)"
   ]
  },
  {
   "cell_type": "code",
   "execution_count": null,
   "id": "60445584-c6b7-49de-9f91-bdadc6646f57",
   "metadata": {},
   "outputs": [],
   "source": [
    "20.isspace()-Returns True if all characters in the string are whitespaces"
   ]
  },
  {
   "cell_type": "code",
   "execution_count": 87,
   "id": "45449c99-0e30-42e3-ad34-1b795e3413f9",
   "metadata": {},
   "outputs": [
    {
     "name": "stdout",
     "output_type": "stream",
     "text": [
      "True\n"
     ]
    }
   ],
   "source": [
    "txt = \"   \"\n",
    "x = txt.isspace()\n",
    "print(x)"
   ]
  },
  {
   "cell_type": "code",
   "execution_count": 89,
   "id": "ce357505-8321-443f-b599-79d837cc2861",
   "metadata": {},
   "outputs": [
    {
     "name": "stdout",
     "output_type": "stream",
     "text": [
      "False\n"
     ]
    }
   ],
   "source": [
    "txt = \"  and \"\n",
    "x = txt.isspace()\n",
    "print(x)"
   ]
  },
  {
   "cell_type": "code",
   "execution_count": null,
   "id": "40add9fa-4fb1-494b-b801-cb9d7deab76a",
   "metadata": {},
   "outputs": [],
   "source": [
    "21.istitle()-Returns True if the string follows the rules of a title"
   ]
  },
  {
   "cell_type": "code",
   "execution_count": 91,
   "id": "b15d3fcb-aa53-4564-8151-056a83337927",
   "metadata": {},
   "outputs": [
    {
     "name": "stdout",
     "output_type": "stream",
     "text": [
      "True\n"
     ]
    }
   ],
   "source": [
    "txt = \"Hello, And Welcome To My World!\"\n",
    "x = txt.istitle()\n",
    "print(x)"
   ]
  },
  {
   "cell_type": "code",
   "execution_count": 99,
   "id": "9275d652-1996-4d4a-a2ee-4794bb337248",
   "metadata": {},
   "outputs": [
    {
     "name": "stdout",
     "output_type": "stream",
     "text": [
      "True\n"
     ]
    }
   ],
   "source": [
    "txt = \"Welcome , To The Virtual World!\"\n",
    "x = txt.istitle()\n",
    "print(x)"
   ]
  },
  {
   "cell_type": "code",
   "execution_count": null,
   "id": "da19d723-aa37-4436-aca5-ae73f996897c",
   "metadata": {},
   "outputs": [],
   "source": [
    "22.isupper()-Returns True if all characters in the string are upper case"
   ]
  },
  {
   "cell_type": "code",
   "execution_count": 101,
   "id": "4eb9a68e-af74-4e9e-b3b6-bf122009901a",
   "metadata": {},
   "outputs": [
    {
     "name": "stdout",
     "output_type": "stream",
     "text": [
      "True\n"
     ]
    }
   ],
   "source": [
    "txt = \"THIS IS NOW!\"\n",
    "x = txt.isupper()\n",
    "print(x)"
   ]
  },
  {
   "cell_type": "code",
   "execution_count": 103,
   "id": "62468c9d-8ea9-4d85-a39a-f1682e9e9f95",
   "metadata": {},
   "outputs": [
    {
     "name": "stdout",
     "output_type": "stream",
     "text": [
      "False\n"
     ]
    }
   ],
   "source": [
    "txt = \"THIS is NOW!\"\n",
    "x = txt.isupper()\n",
    "print(x)"
   ]
  },
  {
   "cell_type": "code",
   "execution_count": null,
   "id": "6444a6c7-131f-4b4a-9eff-366c85a496f0",
   "metadata": {},
   "outputs": [],
   "source": [
    "23.join()-Converts the elements of an iterable into a string"
   ]
  },
  {
   "cell_type": "code",
   "execution_count": 105,
   "id": "3f9e394a-f245-44f8-afc8-cc0581676b98",
   "metadata": {},
   "outputs": [
    {
     "name": "stdout",
     "output_type": "stream",
     "text": [
      "John#Peter#Vicky\n"
     ]
    }
   ],
   "source": [
    "myTuple = (\"John\", \"Peter\", \"Vicky\")\n",
    "x = \"#\".join(myTuple)\n",
    "print(x)"
   ]
  },
  {
   "cell_type": "code",
   "execution_count": 107,
   "id": "9bc4caed-298c-4184-a493-c63f321d424a",
   "metadata": {},
   "outputs": [
    {
     "name": "stdout",
     "output_type": "stream",
     "text": [
      "nameTESTcountry\n"
     ]
    }
   ],
   "source": [
    "myDict = {\"name\": \"John\", \"country\": \"Norway\"}\n",
    "mySeparator = \"TEST\"\n",
    "x = mySeparator.join(myDict)\n",
    "print(x)"
   ]
  },
  {
   "cell_type": "code",
   "execution_count": null,
   "id": "d9bc36c8-6946-49d2-b064-b9b3786b5c67",
   "metadata": {},
   "outputs": [],
   "source": [
    "24.ljust()-Returns a left justified version of the string"
   ]
  },
  {
   "cell_type": "code",
   "execution_count": 109,
   "id": "ef2b26d7-f63e-4723-82a4-b62e290c29be",
   "metadata": {},
   "outputs": [
    {
     "name": "stdout",
     "output_type": "stream",
     "text": [
      "banana               is my favorite fruit.\n"
     ]
    }
   ],
   "source": [
    "txt = \"banana\"\n",
    "x = txt.ljust(20)\n",
    "print(x, \"is my favorite fruit.\")"
   ]
  },
  {
   "cell_type": "code",
   "execution_count": 115,
   "id": "c3847181-6d77-43eb-a298-438a2747c7f4",
   "metadata": {},
   "outputs": [
    {
     "name": "stdout",
     "output_type": "stream",
     "text": [
      "White      is my favorite colour.\n"
     ]
    }
   ],
   "source": [
    "txt = \"White\"\n",
    "x = txt.ljust(10)\n",
    "print(x, \"is my favorite colour.\")"
   ]
  },
  {
   "cell_type": "code",
   "execution_count": null,
   "id": "e0b34c8e-ba2f-4544-acd7-9fcaed835fb4",
   "metadata": {},
   "outputs": [],
   "source": [
    "25.lower()-Converts a string into lower case"
   ]
  },
  {
   "cell_type": "code",
   "execution_count": 117,
   "id": "a8657fb5-12c4-4f5e-a85e-fb23cb60c839",
   "metadata": {},
   "outputs": [
    {
     "name": "stdout",
     "output_type": "stream",
     "text": [
      "hello my friends\n"
     ]
    }
   ],
   "source": [
    "txt = \"Hello my FRIENDS\"\n",
    "x = txt.lower()\n",
    "print(x)"
   ]
  },
  {
   "cell_type": "code",
   "execution_count": 119,
   "id": "a7741edb-9b67-4b6c-a16d-bcb4416df669",
   "metadata": {},
   "outputs": [
    {
     "name": "stdout",
     "output_type": "stream",
     "text": [
      "hi how are you\n"
     ]
    }
   ],
   "source": [
    "txt = \"HI HOW are you\"\n",
    "x = txt.lower()\n",
    "print(x)"
   ]
  },
  {
   "cell_type": "code",
   "execution_count": null,
   "id": "5e1af1df-6cf1-44f6-8983-cfe4b680d661",
   "metadata": {},
   "outputs": [],
   "source": [
    "26.lstrip()-Returns a left trim version of the string"
   ]
  },
  {
   "cell_type": "code",
   "execution_count": 121,
   "id": "1c8edbd1-baf1-462d-8287-dbf623110852",
   "metadata": {},
   "outputs": [
    {
     "name": "stdout",
     "output_type": "stream",
     "text": [
      "of all fruits banana      is my favorite\n"
     ]
    }
   ],
   "source": [
    "txt = \"     banana     \"\n",
    "x = txt.lstrip()\n",
    "print(\"of all fruits\", x, \"is my favorite\")"
   ]
  },
  {
   "cell_type": "code",
   "execution_count": 123,
   "id": "462a046d-d851-4de3-a63b-e2d198e9c873",
   "metadata": {},
   "outputs": [
    {
     "name": "stdout",
     "output_type": "stream",
     "text": [
      "of all fruits apple      is my favorite\n"
     ]
    }
   ],
   "source": [
    "txt = \"     apple     \"\n",
    "x = txt.lstrip()\n",
    "print(\"of all fruits\", x, \"is my favorite\")"
   ]
  },
  {
   "cell_type": "code",
   "execution_count": null,
   "id": "786a1d7f-6ade-4bc6-99b5-f530ea9bb083",
   "metadata": {},
   "outputs": [],
   "source": [
    "27.maketrans()-Returns a translation table to be used in translations"
   ]
  },
  {
   "cell_type": "code",
   "execution_count": 125,
   "id": "c5d54be1-21ca-404d-9c0a-9cc9d096d174",
   "metadata": {},
   "outputs": [
    {
     "name": "stdout",
     "output_type": "stream",
     "text": [
      "Hello Pam!\n"
     ]
    }
   ],
   "source": [
    "txt = \"Hello Sam!\"\n",
    "mytable = str.maketrans(\"S\", \"P\")\n",
    "print(txt.translate(mytable))"
   ]
  },
  {
   "cell_type": "code",
   "execution_count": 129,
   "id": "0c85bfe8-2371-4c2d-92bb-c801a777c6ae",
   "metadata": {},
   "outputs": [
    {
     "name": "stdout",
     "output_type": "stream",
     "text": [
      "Hello ram!\n"
     ]
    }
   ],
   "source": [
    "txt = \"Hello nam!\"\n",
    "mytable = str.maketrans(\"n\", \"r\")\n",
    "print(txt.translate(mytable))"
   ]
  },
  {
   "cell_type": "code",
   "execution_count": null,
   "id": "1705b4c3-2c71-4be0-8ca1-265ff3d60789",
   "metadata": {},
   "outputs": [],
   "source": [
    "28.partition()-Returns a tuple where the string is parted into three parts"
   ]
  },
  {
   "cell_type": "code",
   "execution_count": 137,
   "id": "f5acba77-302c-4e9e-9fec-88ad9c664eed",
   "metadata": {},
   "outputs": [
    {
     "name": "stdout",
     "output_type": "stream",
     "text": [
      "('I could eat ', 'bananas', ' all day')\n"
     ]
    }
   ],
   "source": [
    "txt = \"I could eat bananas all day\"\n",
    "x = txt.partition(\"bananas\")\n",
    "print(x)"
   ]
  },
  {
   "cell_type": "code",
   "execution_count": 135,
   "id": "1fd71232-ea24-48bf-9908-908965c0a822",
   "metadata": {},
   "outputs": [
    {
     "name": "stdout",
     "output_type": "stream",
     "text": [
      "('I could eat bananas all day', '', '')\n"
     ]
    }
   ],
   "source": [
    "txt = \"I could eat bananas all day\"\n",
    "x = txt.partition(\"apples\")\n",
    "print(x)"
   ]
  },
  {
   "cell_type": "code",
   "execution_count": null,
   "id": "7c9bb54f-18e0-4ca5-966a-c6de3ab4a52a",
   "metadata": {},
   "outputs": [],
   "source": [
    "29.replace()-Returns a string where a specified value is replaced with a specified value"
   ]
  },
  {
   "cell_type": "code",
   "execution_count": 139,
   "id": "2ff48a29-915a-4174-8504-2920eecd05da",
   "metadata": {},
   "outputs": [
    {
     "name": "stdout",
     "output_type": "stream",
     "text": [
      "I like apples\n"
     ]
    }
   ],
   "source": [
    "txt = \"I like bananas\"\n",
    "x = txt.replace(\"bananas\", \"apples\")\n",
    "print(x)"
   ]
  },
  {
   "cell_type": "code",
   "execution_count": 141,
   "id": "a0053b95-da15-4660-a121-d390ad590a85",
   "metadata": {},
   "outputs": [
    {
     "name": "stdout",
     "output_type": "stream",
     "text": [
      "I like chocolates\n"
     ]
    }
   ],
   "source": [
    "txt = \"I like bananas\"\n",
    "x = txt.replace(\"bananas\", \"chocolates\")\n",
    "print(x)"
   ]
  },
  {
   "cell_type": "code",
   "execution_count": null,
   "id": "74ced7c5-abeb-42c3-a1f5-d7037deb73d8",
   "metadata": {},
   "outputs": [],
   "source": [
    "30.rfind()-Searches the string for a specified value and returns the last position of where it was found"
   ]
  },
  {
   "cell_type": "code",
   "execution_count": 143,
   "id": "45639ded-5b32-484f-9663-88b4a5cfbd23",
   "metadata": {},
   "outputs": [
    {
     "name": "stdout",
     "output_type": "stream",
     "text": [
      "12\n"
     ]
    }
   ],
   "source": [
    "txt = \"Mi casa, su casa.\"\n",
    "x = txt.rfind(\"casa\")\n",
    "print(x)"
   ]
  },
  {
   "cell_type": "code",
   "execution_count": 147,
   "id": "f8c19f15-554c-4aa6-ad57-56de58dc848d",
   "metadata": {},
   "outputs": [
    {
     "name": "stdout",
     "output_type": "stream",
     "text": [
      "5\n"
     ]
    }
   ],
   "source": [
    "txt = \"Hi i am, prerna.\"\n",
    "x = txt.rfind(\"am\")\n",
    "print(x)"
   ]
  },
  {
   "cell_type": "code",
   "execution_count": null,
   "id": "6146ce35-ed30-4175-8b80-804700daa0c7",
   "metadata": {},
   "outputs": [],
   "source": [
    "31.rpartition()-Returns a tuple where the string is parted into three parts"
   ]
  },
  {
   "cell_type": "code",
   "execution_count": 149,
   "id": "4c9854ac-a6ee-4089-8bb7-c3b521ed912d",
   "metadata": {},
   "outputs": [
    {
     "name": "stdout",
     "output_type": "stream",
     "text": [
      "('I could eat bananas all day, ', 'bananas', ' are my favorite fruit')\n"
     ]
    }
   ],
   "source": [
    "txt = \"I could eat bananas all day, bananas are my favorite fruit\"\n",
    "x = txt.rpartition(\"bananas\")\n",
    "print(x)"
   ]
  },
  {
   "cell_type": "code",
   "execution_count": 151,
   "id": "f202bfe4-585c-4eaf-a870-114577146e79",
   "metadata": {},
   "outputs": [
    {
     "name": "stdout",
     "output_type": "stream",
     "text": [
      "('I could eat apple all day, ', 'apple', ' are my favorite fruit')\n"
     ]
    }
   ],
   "source": [
    "txt = \"I could eat apple all day, apple are my favorite fruit\"\n",
    "x = txt.rpartition(\"apple\")\n",
    "print(x)"
   ]
  },
  {
   "cell_type": "code",
   "execution_count": null,
   "id": "bfc02d08-e3cd-4bdf-abbe-e99976cc9b4c",
   "metadata": {},
   "outputs": [],
   "source": [
    "32.rsplit-Splits the string at the specified separator, and returns a list"
   ]
  },
  {
   "cell_type": "code",
   "execution_count": 153,
   "id": "5ef118dc-4c1b-4254-b1e6-99b21ada9b0b",
   "metadata": {},
   "outputs": [
    {
     "name": "stdout",
     "output_type": "stream",
     "text": [
      "['welcome', 'to', 'the', 'jungle']\n"
     ]
    }
   ],
   "source": [
    "txt = \"welcome to the jungle\"\n",
    "x = txt.split()\n",
    "print(x)"
   ]
  },
  {
   "cell_type": "code",
   "execution_count": 155,
   "id": "6c8f9de0-7d4d-43bd-95c4-bc0a2b5c1386",
   "metadata": {},
   "outputs": [
    {
     "name": "stdout",
     "output_type": "stream",
     "text": [
      "['welcome', 'to', 'the', 'home']\n"
     ]
    }
   ],
   "source": [
    "txt = \"welcome to the home\"\n",
    "x = txt.split()\n",
    "print(x)"
   ]
  },
  {
   "cell_type": "code",
   "execution_count": null,
   "id": "11cc9f9c-81ce-4d4b-bacd-35764e81c4b3",
   "metadata": {},
   "outputs": [],
   "source": [
    "33.splitlines()-Splits the string at line breaks and returns a list"
   ]
  },
  {
   "cell_type": "code",
   "execution_count": 157,
   "id": "fc151339-7d07-4cc2-a164-bf40b605751e",
   "metadata": {},
   "outputs": [
    {
     "name": "stdout",
     "output_type": "stream",
     "text": [
      "['Thank you for the music', 'Welcome to the jungle']\n"
     ]
    }
   ],
   "source": [
    "txt = \"Thank you for the music\\nWelcome to the jungle\"\n",
    "x = txt.splitlines()\n",
    "print(x)"
   ]
  },
  {
   "cell_type": "code",
   "execution_count": 159,
   "id": "d044b97b-5bd8-40fa-b7a6-3a475dea8d2a",
   "metadata": {},
   "outputs": [
    {
     "name": "stdout",
     "output_type": "stream",
     "text": [
      "['Thank you for this gift', 'am very happy']\n"
     ]
    }
   ],
   "source": [
    "txt = \"Thank you for this gift\\nam very happy\"\n",
    "x = txt.splitlines()\n",
    "print(x)"
   ]
  },
  {
   "cell_type": "code",
   "execution_count": null,
   "id": "e70c5122-a52f-4308-add7-cb7800ff7229",
   "metadata": {},
   "outputs": [],
   "source": [
    "34.startswith()-Returns true if the string starts with the specified value"
   ]
  },
  {
   "cell_type": "code",
   "execution_count": 161,
   "id": "56b66a10-3f08-4bb6-8a0e-027673dcc307",
   "metadata": {},
   "outputs": [
    {
     "name": "stdout",
     "output_type": "stream",
     "text": [
      "True\n"
     ]
    }
   ],
   "source": [
    "txt = \"Hello, welcome to my world.\"\n",
    "x = txt.startswith(\"Hello\")\n",
    "print(x)"
   ]
  },
  {
   "cell_type": "code",
   "execution_count": 163,
   "id": "05a0a71f-ee6d-4e27-9b2f-7b550655f9a4",
   "metadata": {},
   "outputs": [
    {
     "name": "stdout",
     "output_type": "stream",
     "text": [
      "True\n"
     ]
    }
   ],
   "source": [
    "txt = \"Hii, welcome to my home.\"\n",
    "x = txt.startswith(\"Hii\")\n",
    "print(x)"
   ]
  },
  {
   "cell_type": "code",
   "execution_count": null,
   "id": "b0f8f8f5-9eb8-4771-a7d0-c0721a8e3340",
   "metadata": {},
   "outputs": [],
   "source": [
    "35.strip()-Returns a trimmed version of the string"
   ]
  },
  {
   "cell_type": "code",
   "execution_count": 165,
   "id": "4249a691-0e69-4d38-ad73-a2515e60b491",
   "metadata": {},
   "outputs": [
    {
     "name": "stdout",
     "output_type": "stream",
     "text": [
      "of all fruits banana is my favorite\n"
     ]
    }
   ],
   "source": [
    "txt = \"     banana     \"\n",
    "x = txt.strip()\n",
    "print(\"of all fruits\", x, \"is my favorite\")"
   ]
  },
  {
   "cell_type": "code",
   "execution_count": 167,
   "id": "b26bf29c-3578-4803-a49d-715a298e2607",
   "metadata": {},
   "outputs": [
    {
     "name": "stdout",
     "output_type": "stream",
     "text": [
      "of all colour white is my favorite\n"
     ]
    }
   ],
   "source": [
    "txt = \"     white     \"\n",
    "x = txt.strip()\n",
    "print(\"of all colour\", x, \"is my favorite\")"
   ]
  },
  {
   "cell_type": "code",
   "execution_count": null,
   "id": "053c9058-d71d-4b15-9e41-1d28e760e48f",
   "metadata": {},
   "outputs": [],
   "source": [
    "36.swapcase()-Swaps cases, lower case becomes upper case and vice versa"
   ]
  },
  {
   "cell_type": "code",
   "execution_count": 169,
   "id": "41137fa8-b2dd-4ad7-8d7d-47e84849434f",
   "metadata": {},
   "outputs": [
    {
     "name": "stdout",
     "output_type": "stream",
     "text": [
      "hELLO mY nAME iS peter\n"
     ]
    }
   ],
   "source": [
    "txt = \"Hello My Name Is PETER\"\n",
    "x = txt.swapcase()\n",
    "print(x)"
   ]
  },
  {
   "cell_type": "code",
   "execution_count": 171,
   "id": "3632bccd-fe11-487e-8f3a-70fdcc346205",
   "metadata": {},
   "outputs": [
    {
     "name": "stdout",
     "output_type": "stream",
     "text": [
      "hELLO mY nAME iS pRERNA\n"
     ]
    }
   ],
   "source": [
    "txt = \"Hello My Name Is Prerna\"\n",
    "x = txt.swapcase()\n",
    "print(x)"
   ]
  },
  {
   "cell_type": "code",
   "execution_count": null,
   "id": "f4d1d336-6baf-40f6-a1ec-1ac87804dfe9",
   "metadata": {},
   "outputs": [],
   "source": [
    "37.title()-Converts the first character of each word to upper case"
   ]
  },
  {
   "cell_type": "code",
   "execution_count": 173,
   "id": "b56f46b4-0353-4d77-a2e9-756b95826a1f",
   "metadata": {},
   "outputs": [
    {
     "name": "stdout",
     "output_type": "stream",
     "text": [
      "Welcome To My World\n"
     ]
    }
   ],
   "source": [
    "txt = \"Welcome to my world\"\n",
    "x = txt.title()\n",
    "print(x)"
   ]
  },
  {
   "cell_type": "code",
   "execution_count": 175,
   "id": "e382f733-e3a3-4268-bbd3-9753e55a833c",
   "metadata": {},
   "outputs": [
    {
     "name": "stdout",
     "output_type": "stream",
     "text": [
      "Hi My Name Is Prerna\n"
     ]
    }
   ],
   "source": [
    "txt = \"hi my name is prerna\"\n",
    "x = txt.title()\n",
    "print(x)"
   ]
  },
  {
   "cell_type": "code",
   "execution_count": null,
   "id": "1faf3246-5e14-4cab-993c-c68a940d2053",
   "metadata": {},
   "outputs": [],
   "source": [
    "38.translate()-Returns a translated string"
   ]
  },
  {
   "cell_type": "code",
   "execution_count": 177,
   "id": "c27ad441-947a-4152-8510-bf2793222b4f",
   "metadata": {},
   "outputs": [
    {
     "name": "stdout",
     "output_type": "stream",
     "text": [
      "Hello Pam!\n"
     ]
    }
   ],
   "source": [
    "#use a dictionary with ascii codes to replace 83 (S) with 80 (P):\n",
    "mydict = {83:  80}\n",
    "txt = \"Hello Sam!\"\n",
    "print(txt.translate(mydict))"
   ]
  },
  {
   "cell_type": "code",
   "execution_count": 179,
   "id": "bd8e9abd-2237-45c4-8f1e-5fdf7ff7daab",
   "metadata": {},
   "outputs": [
    {
     "name": "stdout",
     "output_type": "stream",
     "text": [
      "Hello prerna!\n"
     ]
    }
   ],
   "source": [
    "#use a dictionary with ascii codes to replace 20 (S) with 50 (P):\n",
    "mydict = {20:  50}\n",
    "txt = \"Hello prerna!\"\n",
    "print(txt.translate(mydict))"
   ]
  },
  {
   "cell_type": "code",
   "execution_count": null,
   "id": "5a5b6c32-8573-4e39-845e-6b40a9e8435f",
   "metadata": {},
   "outputs": [],
   "source": [
    "39.upper()-Converts a string into upper case"
   ]
  },
  {
   "cell_type": "code",
   "execution_count": 181,
   "id": "8edf3fe0-551e-4cb7-a7a7-9db97b8b704c",
   "metadata": {},
   "outputs": [
    {
     "name": "stdout",
     "output_type": "stream",
     "text": [
      "HELLO MY FRIENDS\n"
     ]
    }
   ],
   "source": [
    "txt = \"Hello my friends\"\n",
    "x = txt.upper()\n",
    "print(x)"
   ]
  },
  {
   "cell_type": "code",
   "execution_count": 183,
   "id": "abfde023-7449-41fe-875b-72944af25662",
   "metadata": {},
   "outputs": [
    {
     "name": "stdout",
     "output_type": "stream",
     "text": [
      "HELLO MY DEAR\n"
     ]
    }
   ],
   "source": [
    "txt = \"Hello my dear\"\n",
    "x = txt.upper()\n",
    "print(x)"
   ]
  },
  {
   "cell_type": "code",
   "execution_count": null,
   "id": "6bf9b792-5f2f-48e9-8147-34667eca6efa",
   "metadata": {},
   "outputs": [],
   "source": [
    "40.zfill()-Fills the string with a specified number of 0 values at the beginning"
   ]
  },
  {
   "cell_type": "code",
   "execution_count": 185,
   "id": "acc79bdd-9c9b-4e6a-8817-3a3af0e8f974",
   "metadata": {},
   "outputs": [
    {
     "name": "stdout",
     "output_type": "stream",
     "text": [
      "0000000050\n"
     ]
    }
   ],
   "source": [
    "txt = \"50\"\n",
    "x = txt.zfill(10)\n",
    "print(x)"
   ]
  },
  {
   "cell_type": "code",
   "execution_count": 187,
   "id": "84b1036e-f11f-4118-a30a-da608bd8b5cc",
   "metadata": {},
   "outputs": [
    {
     "name": "stdout",
     "output_type": "stream",
     "text": [
      "00012\n"
     ]
    }
   ],
   "source": [
    "txt = \"12\"\n",
    "x = txt.zfill(5)\n",
    "print(x)"
   ]
  }
 ],
 "metadata": {
  "kernelspec": {
   "display_name": "Python 3 (ipykernel)",
   "language": "python",
   "name": "python3"
  },
  "language_info": {
   "codemirror_mode": {
    "name": "ipython",
    "version": 3
   },
   "file_extension": ".py",
   "mimetype": "text/x-python",
   "name": "python",
   "nbconvert_exporter": "python",
   "pygments_lexer": "ipython3",
   "version": "3.12.4"
  }
 },
 "nbformat": 4,
 "nbformat_minor": 5
}
